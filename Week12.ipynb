{
  "nbformat": 4,
  "nbformat_minor": 0,
  "metadata": {
    "colab": {
      "provenance": [],
      "authorship_tag": "ABX9TyO118FTJSFRpOJp3lCLVXBO",
      "include_colab_link": true
    },
    "kernelspec": {
      "name": "python3",
      "display_name": "Python 3"
    },
    "language_info": {
      "name": "python"
    }
  },
  "cells": [
    {
      "cell_type": "markdown",
      "metadata": {
        "id": "view-in-github",
        "colab_type": "text"
      },
      "source": [
        "<a href=\"https://colab.research.google.com/github/Davidnazal/Praktikum-Pemrograman-git/blob/main/Week12.ipynb\" target=\"_parent\"><img src=\"https://colab.research.google.com/assets/colab-badge.svg\" alt=\"Open In Colab\"/></a>"
      ]
    },
    {
      "cell_type": "code",
      "source": [
        "#Weekly Exercise 1\n",
        "PI = 3.14\n",
        "\n",
        "def luas_lingkaran(jari_jari):\n",
        "    return PI * jari_jari * jari_jari\n",
        "\n",
        "def luas_persegi(sisi):\n",
        "    return sisi * sisi\n",
        "\n",
        "def hitung_luas_lingkaran():\n",
        "    while True:\n",
        "        try:\n",
        "            jari_jari = input(\"Masukkan jari-jari lingkaran: \")\n",
        "            jari_jari = float (jari_jari)\n",
        "            luas = luas_lingkaran(int(jari_jari))\n",
        "            print(f\"Luas lingkaran dengan jari-jari {jari_jari} adalah {luas:.2f}\")\n",
        "\n",
        "        except :\n",
        "          if jari_jari == \"\":\n",
        "                raise ValueError(\"Tidak boleh kosong\")\n",
        "\n",
        "\n",
        "          if type(jari_jari) is not float :\n",
        "              raise ValueError(\"Masukan angka\")\n",
        "          break\n",
        "\n",
        "\n",
        "\n",
        "def hitung_luas_persegi():\n",
        "    while True:\n",
        "        try:\n",
        "            sisi = input(\"Masukkan panjang sisi persegi: \")\n",
        "            sisi = float(sisi)\n",
        "            luas = luas_persegi(float(sisi))\n",
        "            print(f\"Luas persegi dengan sisi {sisi} adalah {luas:.2f}\")\n",
        "\n",
        "        except :\n",
        "          if sisi == \"\":\n",
        "                raise ValueError(\"Tidak boleh kosong\")\n",
        "\n",
        "          if type(sisi) is not float:\n",
        "                raise ValueError(\"Hanya Boleh memasukan angka\")\n",
        "          break\n",
        "\n",
        "\n",
        "\n",
        "while True:\n",
        "    print(\"\\nPilihan:\")\n",
        "    print(\"1. Hitung luas lingkaran\")\n",
        "    print(\"2. Hitung luas persegi\")\n",
        "    print(\"3. Keluar\")\n",
        "    pilihan = input(\"Pilih menu (1/2/3): \")\n",
        "\n",
        "    if pilihan == '1':\n",
        "        hitung_luas_lingkaran()\n",
        "    elif pilihan == '2':\n",
        "        hitung_luas_persegi()\n",
        "    elif pilihan == '3':\n",
        "        print(\"Terima kasih telah menggunakan program!\")\n",
        "        break\n",
        "    else:\n",
        "        print(\"Pilihan tidak valid. Silakan pilih 1, 2, atau 3.\")\n",
        "\n"
      ],
      "metadata": {
        "colab": {
          "base_uri": "https://localhost:8080/",
          "height": 530
        },
        "id": "KIr2nYSGmVlV",
        "outputId": "568ca0e2-d6a5-425e-9fd4-354f8197033d"
      },
      "execution_count": 62,
      "outputs": [
        {
          "name": "stdout",
          "output_type": "stream",
          "text": [
            "\n",
            "Pilihan:\n",
            "1. Hitung luas lingkaran\n",
            "2. Hitung luas persegi\n",
            "3. Keluar\n",
            "Pilih menu (1/2/3): 1\n",
            "Masukkan jari-jari lingkaran: \n"
          ]
        },
        {
          "output_type": "error",
          "ename": "ValueError",
          "evalue": "Tidak boleh kosong",
          "traceback": [
            "\u001b[0;31m---------------------------------------------------------------------------\u001b[0m",
            "\u001b[0;31mValueError\u001b[0m                                Traceback (most recent call last)",
            "\u001b[0;32m<ipython-input-62-b405823a3c0b>\u001b[0m in \u001b[0;36mhitung_luas_lingkaran\u001b[0;34m()\u001b[0m\n\u001b[1;32m     13\u001b[0m             \u001b[0mjari_jari\u001b[0m \u001b[0;34m=\u001b[0m \u001b[0minput\u001b[0m\u001b[0;34m(\u001b[0m\u001b[0;34m\"Masukkan jari-jari lingkaran: \"\u001b[0m\u001b[0;34m)\u001b[0m\u001b[0;34m\u001b[0m\u001b[0;34m\u001b[0m\u001b[0m\n\u001b[0;32m---> 14\u001b[0;31m             \u001b[0mluas\u001b[0m \u001b[0;34m=\u001b[0m \u001b[0mluas_lingkaran\u001b[0m\u001b[0;34m(\u001b[0m\u001b[0mint\u001b[0m\u001b[0;34m(\u001b[0m\u001b[0mjari_jari\u001b[0m\u001b[0;34m)\u001b[0m\u001b[0;34m)\u001b[0m\u001b[0;34m\u001b[0m\u001b[0;34m\u001b[0m\u001b[0m\n\u001b[0m\u001b[1;32m     15\u001b[0m             \u001b[0mprint\u001b[0m\u001b[0;34m(\u001b[0m\u001b[0;34mf\"Luas lingkaran dengan jari-jari {jari_jari} adalah {luas:.2f}\"\u001b[0m\u001b[0;34m)\u001b[0m\u001b[0;34m\u001b[0m\u001b[0;34m\u001b[0m\u001b[0m\n",
            "\u001b[0;31mValueError\u001b[0m: invalid literal for int() with base 10: ''",
            "\nDuring handling of the above exception, another exception occurred:\n",
            "\u001b[0;31mValueError\u001b[0m                                Traceback (most recent call last)",
            "\u001b[0;32m<ipython-input-62-b405823a3c0b>\u001b[0m in \u001b[0;36m<cell line: 45>\u001b[0;34m()\u001b[0m\n\u001b[1;32m     51\u001b[0m \u001b[0;34m\u001b[0m\u001b[0m\n\u001b[1;32m     52\u001b[0m     \u001b[0;32mif\u001b[0m \u001b[0mpilihan\u001b[0m \u001b[0;34m==\u001b[0m \u001b[0;34m'1'\u001b[0m\u001b[0;34m:\u001b[0m\u001b[0;34m\u001b[0m\u001b[0;34m\u001b[0m\u001b[0m\n\u001b[0;32m---> 53\u001b[0;31m         \u001b[0mhitung_luas_lingkaran\u001b[0m\u001b[0;34m(\u001b[0m\u001b[0;34m)\u001b[0m\u001b[0;34m\u001b[0m\u001b[0;34m\u001b[0m\u001b[0m\n\u001b[0m\u001b[1;32m     54\u001b[0m     \u001b[0;32melif\u001b[0m \u001b[0mpilihan\u001b[0m \u001b[0;34m==\u001b[0m \u001b[0;34m'2'\u001b[0m\u001b[0;34m:\u001b[0m\u001b[0;34m\u001b[0m\u001b[0;34m\u001b[0m\u001b[0m\n\u001b[1;32m     55\u001b[0m         \u001b[0mhitung_luas_persegi\u001b[0m\u001b[0;34m(\u001b[0m\u001b[0;34m)\u001b[0m\u001b[0;34m\u001b[0m\u001b[0;34m\u001b[0m\u001b[0m\n",
            "\u001b[0;32m<ipython-input-62-b405823a3c0b>\u001b[0m in \u001b[0;36mhitung_luas_lingkaran\u001b[0;34m()\u001b[0m\n\u001b[1;32m     17\u001b[0m         \u001b[0;32mexcept\u001b[0m \u001b[0;34m:\u001b[0m\u001b[0;34m\u001b[0m\u001b[0;34m\u001b[0m\u001b[0m\n\u001b[1;32m     18\u001b[0m           \u001b[0;32mif\u001b[0m \u001b[0mjari_jari\u001b[0m \u001b[0;34m==\u001b[0m \u001b[0;34m\"\"\u001b[0m\u001b[0;34m:\u001b[0m\u001b[0;34m\u001b[0m\u001b[0;34m\u001b[0m\u001b[0m\n\u001b[0;32m---> 19\u001b[0;31m                 \u001b[0;32mraise\u001b[0m \u001b[0mValueError\u001b[0m\u001b[0;34m(\u001b[0m\u001b[0;34m\"Tidak boleh kosong\"\u001b[0m\u001b[0;34m)\u001b[0m\u001b[0;34m\u001b[0m\u001b[0;34m\u001b[0m\u001b[0m\n\u001b[0m\u001b[1;32m     20\u001b[0m           \u001b[0mprint\u001b[0m\u001b[0;34m(\u001b[0m\u001b[0;34m\"Tidak boleh kosong\"\u001b[0m\u001b[0;34m)\u001b[0m\u001b[0;34m\u001b[0m\u001b[0;34m\u001b[0m\u001b[0m\n\u001b[1;32m     21\u001b[0m \u001b[0;34m\u001b[0m\u001b[0m\n",
            "\u001b[0;31mValueError\u001b[0m: Tidak boleh kosong"
          ]
        }
      ]
    },
    {
      "cell_type": "code",
      "source": [
        "#UTS\n",
        "num = (input(\"Masukkan NPM anda: \"))\n",
        "angka_genap = 0\n",
        "angka_ganjil = 0\n",
        "\n",
        "for angka in (num) :\n",
        "  if int(angka) % 2 == 0:\n",
        "    angka_genap += 1\n",
        "  else:\n",
        "    angka_ganjil += 1\n",
        "\n",
        "print(\"Jumlah angka genap:\", angka_genap)\n",
        "print(\"Jumlah angka ganjil:\", angka_ganjil)"
      ],
      "metadata": {
        "colab": {
          "base_uri": "https://localhost:8080/"
        },
        "id": "wnczKtK-cYhg",
        "outputId": "63f6b91d-31c9-42e0-8886-7076659e5094"
      },
      "execution_count": 60,
      "outputs": [
        {
          "output_type": "stream",
          "name": "stdout",
          "text": [
            "Masukkan NPM anda: 2410506005\n",
            "Jumlah angka genap: 7\n",
            "Jumlah angka ganjil: 3\n"
          ]
        }
      ]
    },
    {
      "cell_type": "code",
      "source": [
        "#Weekly Exercise 2\n",
        "try:\n",
        "    num = input(\"Masukkan NPM anda: \")\n",
        "\n",
        "    if not num.isdigit():\n",
        "        raise ValueError(\"Input harus berupa angka saja.\")\n",
        "\n",
        "    angka_genap = 0\n",
        "    angka_ganjil = 0\n",
        "\n",
        "    for angka in num:\n",
        "        if int(angka) % 2 == 0:\n",
        "            angka_genap += 1\n",
        "        else:\n",
        "            angka_ganjil += 1\n",
        "\n",
        "    print(\"Jumlah angka genap:\", angka_genap)\n",
        "    print(\"Jumlah angka ganjil:\", angka_ganjil)\n",
        "\n",
        "except ValueError:\n",
        "    print(\"Terjadi kesalahan:\")\n",
        "\n"
      ],
      "metadata": {
        "colab": {
          "base_uri": "https://localhost:8080/"
        },
        "id": "6G2b_UMFgI-h",
        "outputId": "4ce8d0e3-c43e-4f73-cfc2-50080e00a101"
      },
      "execution_count": 63,
      "outputs": [
        {
          "output_type": "stream",
          "name": "stdout",
          "text": [
            "Masukkan NPM anda: 2410506005\n",
            "Jumlah angka genap: 7\n",
            "Jumlah angka ganjil: 3\n"
          ]
        }
      ]
    },
    {
      "cell_type": "code",
      "source": [],
      "metadata": {
        "id": "CiclDHBChWjW"
      },
      "execution_count": null,
      "outputs": []
    }
  ]
}
