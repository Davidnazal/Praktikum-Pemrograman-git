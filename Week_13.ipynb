{
  "nbformat": 4,
  "nbformat_minor": 0,
  "metadata": {
    "colab": {
      "provenance": [],
      "authorship_tag": "ABX9TyNUngzJlv5uN9vq4axwV8Oo",
      "include_colab_link": true
    },
    "kernelspec": {
      "name": "python3",
      "display_name": "Python 3"
    },
    "language_info": {
      "name": "python"
    }
  },
  "cells": [
    {
      "cell_type": "markdown",
      "metadata": {
        "id": "view-in-github",
        "colab_type": "text"
      },
      "source": [
        "<a href=\"https://colab.research.google.com/github/Davidnazal/Praktikum-Pemrograman-git/blob/main/Week_13.ipynb\" target=\"_parent\"><img src=\"https://colab.research.google.com/assets/colab-badge.svg\" alt=\"Open In Colab\"/></a>"
      ]
    },
    {
      "source": [
        "class TokoAlatTulis:\n",
        "    def __init__(self):\n",
        "        self.dagangan = {}\n",
        "    def setter(self, nama, stok, harga_satuan):\n",
        "        self.dagangan[nama] = {f\"nama\": nama,\"stok\": stok,\"harga_satuan\": harga_satuan,}\n",
        "    def getter(self, nama):\n",
        "        if nama in self.dagangan:\n",
        "            return self.dagangan[nama]\n",
        "    def setter_getter(self, nama, jumlah):\n",
        "        dagangan = self.dagangan[nama]\n",
        "        if dagangan[\"stok\"] >= 1 and jumlah <= dagangan[\"stok\"]:\n",
        "            self.dagangan[nama][\"stok\"] -= jumlah\n",
        "            print(\"Total Pembelian anda sebesar \", dagangan[\"harga_satuan\"] * jumlah)\n",
        "\n",
        "AlatTulis = TokoAlatTulis()\n",
        "AlatTulis.setter(\"Bolpoint\", 10, 2000)\n",
        "AlatTulis.setter(\"Pensil\", 10, 1000)\n",
        "AlatTulis.setter(\"Penghapus\", 10, 500)\n",
        "\n",
        "def pembelian (barang):\n",
        "    dagangan = [\"Bolpoint\", \"Pensil\", \"Penghapus\"]\n",
        "    bolpoint = AlatTulis.getter(\"Bolpoint\")\n",
        "    pensil = AlatTulis.getter(\"Pensil\")\n",
        "    penghapus = AlatTulis.getter(\"Penghapus\")\n",
        "\n",
        "    print()\n",
        "    print(\"Daftar stok barang:\")\n",
        "    print(\"1. Bolpoint : \", bolpoint[\"stok\"])\n",
        "    print(\"2. Pensil   : \", pensil[\"stok\"])\n",
        "    print(\"3. Penghapus: \", penghapus[\"stok\"])\n",
        "\n",
        "    pilih = int(input(\"Pilihlah salah satu dari nomor berikut= \"))\n",
        "    jumlah = int(input(\"Berapa jumlah pembelian= \"))\n",
        "    AlatTulis.setter_getter(dagangan[pilih - 1], jumlah)\n",
        "\n",
        "    selesai = True if input(\"Apakah sudah? (y/b)= \") == \"y\" else False\n",
        "    if \"y\" == print(\"Terimakasih sudah berbelanja\"):\n",
        "        pembelian (selesai)\n",
        "\n",
        "pembelian (False)"
      ],
      "cell_type": "code",
      "metadata": {
        "colab": {
          "base_uri": "https://localhost:8080/"
        },
        "id": "eEqk0-Y1-vlQ",
        "outputId": "628d86f0-ca06-48b5-d7f3-926d2d168500"
      },
      "execution_count": 43,
      "outputs": [
        {
          "output_type": "stream",
          "name": "stdout",
          "text": [
            "\n",
            "Daftar stok barang:\n",
            "1. Bolpoint :  10\n",
            "2. Pensil   :  10\n",
            "3. Penghapus:  10\n",
            "Pilihlah salah satu dari nomor berikut= 1\n",
            "Berapa jumlah pembelian= 2\n",
            "Total Pembelian anda sebesar  4000\n",
            "Apakah sudah? (y/b)= y\n",
            "Terimakasih sudah berbelanja\n"
          ]
        }
      ]
    },
    {
      "cell_type": "code",
      "source": [
        "\n"
      ],
      "metadata": {
        "id": "fVT1CwVnmnQT"
      },
      "execution_count": null,
      "outputs": []
    }
  ]
}