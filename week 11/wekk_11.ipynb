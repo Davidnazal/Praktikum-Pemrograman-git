{
  "nbformat": 4,
  "nbformat_minor": 0,
  "metadata": {
    "colab": {
      "provenance": []
    },
    "kernelspec": {
      "name": "python3",
      "display_name": "Python 3"
    },
    "language_info": {
      "name": "python"
    }
  },
  "cells": [
    {
      "cell_type": "code",
      "source": [
        "from matematika import luas_lingkaran, luas_persegi\n",
        "\n",
        "print(PI)\n",
        "print(luas_lingkaran(7))\n",
        "print(luas_persegi(7))"
      ],
      "metadata": {
        "id": "7DRj0HY0-Z7d",
        "colab": {
          "base_uri": "https://localhost:8080/"
        },
        "outputId": "1a0ee219-0409-40e7-8d2b-7badb4ab31e4"
      },
      "execution_count": 21,
      "outputs": [
        {
          "output_type": "stream",
          "name": "stdout",
          "text": [
            "3.14\n",
            "153.93804002589985\n",
            "49\n"
          ]
        }
      ]
    },
    {
      "cell_type": "code",
      "source": [
        "from math import pi,sqrt,ceil,floor,factorial\n",
        "\n",
        "print(\"Memberi tahu nilai pi: \",pi)\n",
        "print(\"Menghitung akar kuadrat positif: \",sqrt(49))\n",
        "print(\"Membulatkan angka ke atas: \",ceil(7.5))\n",
        "print(\"Membulatkan angka ke bawah: \",floor(7.5))\n",
        "print(\"Menghitung faktorial suatu angka: \",factorial(5))\n"
      ],
      "metadata": {
        "colab": {
          "base_uri": "https://localhost:8080/"
        },
        "id": "Esdl1bTTDVMF",
        "outputId": "f5a6e5eb-0480-42ec-f7ef-c9079fce7e1d"
      },
      "execution_count": 28,
      "outputs": [
        {
          "output_type": "stream",
          "name": "stdout",
          "text": [
            "Memberi tahu nilai pi:  3.141592653589793\n",
            "Menghitung akar kuadrat positif:  7.0\n",
            "Membulatkan angka ke atas:  8\n",
            "Membulatkan angka ke bawah:  7\n",
            "Menghitung faktorial suatu angka:  120\n"
          ]
        }
      ]
    },
    {
      "cell_type": "code",
      "source": [],
      "metadata": {
        "id": "IqULM22nu9S_"
      },
      "execution_count": null,
      "outputs": []
    }
  ]
}