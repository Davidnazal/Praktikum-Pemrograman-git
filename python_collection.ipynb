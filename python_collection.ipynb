{
  "nbformat": 4,
  "nbformat_minor": 0,
  "metadata": {
    "colab": {
      "provenance": [],
      "authorship_tag": "ABX9TyOch2L7F5bRUT6QPOxOrcPF",
      "include_colab_link": true
    },
    "kernelspec": {
      "name": "python3",
      "display_name": "Python 3"
    },
    "language_info": {
      "name": "python"
    }
  },
  "cells": [
    {
      "cell_type": "markdown",
      "metadata": {
        "id": "view-in-github",
        "colab_type": "text"
      },
      "source": [
        "<a href=\"https://colab.research.google.com/github/Davidnazal/Praktikum-Pemrograman-git/blob/main/python_collection.ipynb\" target=\"_parent\"><img src=\"https://colab.research.google.com/assets/colab-badge.svg\" alt=\"Open In Colab\"/></a>"
      ]
    },
    {
      "cell_type": "code",
      "execution_count": null,
      "metadata": {
        "id": "itjqClyz0J1O"
      },
      "outputs": [],
      "source": []
    },
    {
      "cell_type": "markdown",
      "source": [
        "perbedaan dari list,tuple,set dan dictionary dalam python adalah:\n",
        "\n",
        "• list: merupakan urutan yang dapat diubah dan memungkinkan untuk melakukan duplikasi elemen, dan deklaraasinya menggunakan kurung siku [ ].\n",
        "\n",
        "contonnya:\n",
        "\n",
        "list = [\"apel\",\"pisang\",\"mangga\",\"jeruk\",\"nanas\"]\n",
        "\n",
        "• tuple adalah urutan yang mirip dengan list, tapi setelah dibuat urutan tidak dapat diubah, dan deklarasinya mwnggunakan kurung biasa ( ).\n",
        "\n",
        "contoh: tuple = (\"apel\",\"pisang\",\"mangga\",\"jeruk\",\"nanas\")\n",
        "\n",
        "• set meupakan perintah yang berguna untuk menyimpan data yang tidak urut, yang dimana elemenya dapat diubah tetapi tidak merubah nilainya. deklarasi set menggunakan kurung kurawal { }.\n",
        "\n",
        "contohnya:  set = {\"apel\",\"pisang\",\"mangga\",\"jeruk\",\"nanas\"}\n",
        "\n",
        "• dictionary adalah perintah yang digunakan untuk menyimpan dalam pasangan kunci dan nilai, dan nilai dari suatu key dapat diubah. deklarasinya menggunakan\n",
        "kurung kurawal { }.\n",
        "\n",
        "contohnya: dict = {\"nama:\" Ardi\", \"umur\": 19,\"asal:\" \"jakarta\"}"
      ],
      "metadata": {
        "id": "BG3f6crE2W_B"
      }
    },
    {
      "cell_type": "code",
      "source": [
        "list = [\"apel\",\"pisang\",\"mangga\",\"jeruk\",\"nanas\"]\n",
        "print(list)"
      ],
      "metadata": {
        "colab": {
          "base_uri": "https://localhost:8080/"
        },
        "id": "BOuFJbGg-xtq",
        "outputId": "5c30478d-b3e8-4f3f-8dd9-adaf5991fae0"
      },
      "execution_count": null,
      "outputs": [
        {
          "output_type": "stream",
          "name": "stdout",
          "text": [
            "['apel', 'pisang', 'mangga', 'jeruk', 'nanas']\n"
          ]
        }
      ]
    },
    {
      "cell_type": "markdown",
      "source": [],
      "metadata": {
        "id": "jOzjA4Pz-13m"
      }
    },
    {
      "cell_type": "code",
      "source": [
        " tuple = (1,2,3,\"mangga\",\"jeruk\",\"nanas\")\n",
        " print(tuple)"
      ],
      "metadata": {
        "colab": {
          "base_uri": "https://localhost:8080/"
        },
        "id": "1gtWa49V-0sg",
        "outputId": "f74db412-ade3-43c7-d6cb-4beda6666360"
      },
      "execution_count": null,
      "outputs": [
        {
          "output_type": "stream",
          "name": "stdout",
          "text": [
            "(1, 2, 3, 'mangga', 'jeruk', 'nanas')\n"
          ]
        }
      ]
    },
    {
      "cell_type": "code",
      "source": [
        " set = {\"apel\",\"pisang\",\"mangga\",\"jeruk\",\"nanas\"}\n",
        " print(set)"
      ],
      "metadata": {
        "colab": {
          "base_uri": "https://localhost:8080/"
        },
        "id": "PoQNOGI3_E7g",
        "outputId": "6de8b4e9-c671-4926-b225-3a06f5209f01"
      },
      "execution_count": null,
      "outputs": [
        {
          "output_type": "stream",
          "name": "stdout",
          "text": [
            "{'pisang', 'jeruk', 'mangga', 'apel', 'nanas'}\n"
          ]
        }
      ]
    },
    {
      "cell_type": "code",
      "source": [
        "dict = {\"nama\": \"Ardi\", \"umur\": 19 ,\"asal\": \"jakarta\"}\n",
        "print(dict)"
      ],
      "metadata": {
        "colab": {
          "base_uri": "https://localhost:8080/"
        },
        "id": "DaZoZaHc__0w",
        "outputId": "22816f4f-8959-4873-e448-37b794c5a8c7"
      },
      "execution_count": null,
      "outputs": [
        {
          "output_type": "stream",
          "name": "stdout",
          "text": [
            "{'nama': 'Ardi', 'umur': 19, 'asal': 'jakarta'}\n"
          ]
        }
      ]
    },
    {
      "cell_type": "code",
      "source": [
        "mahasiswa = [ {\"Nama\": \"David Nazal Farihin\",\n",
        "                \"Kelas\": \"Rombel 1\",\n",
        "                \"Tanggal Lahir\": \"8 Oktober 2005\",\n",
        "                \"No HP\": \"012345678\",\n",
        "                \"Alamat\": \"Wonosobo\",\n",
        "                \"hobi\": [\"Tidur\", \"main game\" , \"makan\"]}]\n",
        "\n",
        "for mahasiswa_item in mahasiswa:\n",
        "  print(\"Nama:\", mahasiswa_item[\"Nama\"])\n",
        "  print(\"Kelas:\", mahasiswa_item[\"Kelas\"])\n",
        "  print(\"Tanggal Lahir:\", mahasiswa_item[\"Tanggal Lahir\"])\n",
        "  print(\"No HP:\", mahasiswa_item[\"No HP\"])\n",
        "  print(\"Alamat:\", mahasiswa_item[\"Alamat\"])\n",
        "  print(\"Hobi:\")\n",
        "  for hobi in mahasiswa_item['hobi']:\n",
        "    print(\"•\", hobi)\n",
        "  print()"
      ],
      "metadata": {
        "colab": {
          "base_uri": "https://localhost:8080/"
        },
        "id": "Gb0x3vjqDm5e",
        "outputId": "f99f6b1c-05ab-4d41-805e-830053d8d079"
      },
      "execution_count": 9,
      "outputs": [
        {
          "output_type": "stream",
          "name": "stdout",
          "text": [
            "Nama: David Nazal Farihin\n",
            "Kelas: Rombel 1\n",
            "Tanggal Lahir: 8 Oktober 2005\n",
            "No HP: 012345678\n",
            "Alamat: Wonosobo\n",
            "Hobi:\n",
            "• Tidur\n",
            "• main game\n",
            "• makan\n",
            "\n"
          ]
        }
      ]
    },
    {
      "cell_type": "code",
      "source": [],
      "metadata": {
        "id": "ZlqHHW0hEGNC"
      },
      "execution_count": 9,
      "outputs": []
    }
  ]
}