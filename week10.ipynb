{
  "nbformat": 4,
  "nbformat_minor": 0,
  "metadata": {
    "colab": {
      "provenance": [],
      "authorship_tag": "ABX9TyMmmKjngM4Dyjqfk3vABkWW",
      "include_colab_link": true
    },
    "kernelspec": {
      "name": "python3",
      "display_name": "Python 3"
    },
    "language_info": {
      "name": "python"
    }
  },
  "cells": [
    {
      "cell_type": "markdown",
      "metadata": {
        "id": "view-in-github",
        "colab_type": "text"
      },
      "source": [
        "<a href=\"https://colab.research.google.com/github/Davidnazal/Praktikum-Pemrograman-git/blob/main/week10.ipynb\" target=\"_parent\"><img src=\"https://colab.research.google.com/assets/colab-badge.svg\" alt=\"Open In Colab\"/></a>"
      ]
    },
    {
      "cell_type": "code",
      "execution_count": null,
      "metadata": {
        "colab": {
          "base_uri": "https://localhost:8080/"
        },
        "id": "3_LqFHLB2yRj",
        "outputId": "e46409b6-60a0-4778-f7d1-2e2636340863"
      },
      "outputs": [
        {
          "output_type": "stream",
          "name": "stdout",
          "text": [
            "I am from UEA\n",
            "I am from Arab Saudi\n",
            "I am from Indonesia\n",
            "I am from Malaysia\n"
          ]
        }
      ],
      "source": [
        "def my_function(country = \"Indonesia\"):\n",
        "  print(\"I am from \" + country)\n",
        "\n",
        "my_function(\"UEA\")\n",
        "my_function(\"Arab Saudi\")\n",
        "my_function()\n",
        "my_function(\"Malaysia\")\n"
      ]
    },
    {
      "cell_type": "code",
      "source": [
        "def faktorial(x):\n",
        "    if x == 1:\n",
        "        return 1\n",
        "    else:\n",
        "        return (x * faktorial(x-1))\n",
        "\n",
        "faktorial(2)"
      ],
      "metadata": {
        "colab": {
          "base_uri": "https://localhost:8080/"
        },
        "id": "1wTD3AcN6JtK",
        "outputId": "557215e9-907e-449c-cba9-90ee0736c087"
      },
      "execution_count": null,
      "outputs": [
        {
          "output_type": "execute_result",
          "data": {
            "text/plain": [
              "2"
            ]
          },
          "metadata": {},
          "execution_count": 7
        }
      ]
    },
    {
      "cell_type": "code",
      "source": [
        "bilangan = int(input(\"Masukkan bilangan: \"))\n",
        "def faktorial(x):\n",
        "    if x == 0:\n",
        "        return 1\n",
        "    else:\n",
        "        return (x * faktorial(x-1))\n",
        "\n",
        "print(\"Nilai faktorialnya:\" ,faktorial(bilangan))"
      ],
      "metadata": {
        "colab": {
          "base_uri": "https://localhost:8080/"
        },
        "id": "KLrsmDHJ7J1B",
        "outputId": "91700d10-35c0-46ec-8590-dfaf783560cb"
      },
      "execution_count": null,
      "outputs": [
        {
          "output_type": "stream",
          "name": "stdout",
          "text": [
            "Masukkan bilangan: 5\n",
            "Nilai faktorialnya: 120\n"
          ]
        }
      ]
    },
    {
      "cell_type": "code",
      "source": [
        "def luas_lingkaran(r):\n",
        "    luas = 3.14 * r * r\n",
        "    return luas\n",
        "def luas_persegi(sisi):\n",
        "    luas = sisi*sisi\n",
        "    return luas\n",
        "def luas_segitiga(alas,tinggi):\n",
        "    luas = 0.5 * alas * tinggi\n",
        "    return luas\n",
        "\n",
        "while True:\n",
        "    print(\"1. Luas Lingkaran\")\n",
        "    print(\"2. Luas Persegi\")\n",
        "    print(\"3. Luas Segitiga\")\n",
        "    print(\"4. Keluar\")\n",
        "    pilihan = input(\"Masukkan pilihan (1,2,3,4): \")\n",
        "\n",
        "    if pilihan == '1':\n",
        "        result = luas_lingkaran(float(input(\"Masukkan jari-jari: \")))\n",
        "        print(\"Luas Lingkaran adalah:\", result)\n",
        "        print()\n",
        "    elif pilihan == '2':\n",
        "        result = luas_persegi(float(input(\"Masukkan sisi: \")))\n",
        "        print(\"Luas Persegi adalah:\", result)\n",
        "        print()\n",
        "    elif pilihan == '3':\n",
        "        result = luas_segitiga(float(input(\"Masukkan alas: \")), float(input(\"Masukkan tinggi: \")))\n",
        "        print(\"Luas Segitiga adalah:\", result)\n",
        "        print()\n",
        "    elif pilihan == '4':\n",
        "        print(\"Terima kasih\")\n",
        "        break\n",
        "    else:\n",
        "        print(\"Pilihan tidak valid\")"
      ],
      "metadata": {
        "colab": {
          "base_uri": "https://localhost:8080/"
        },
        "id": "0tMJrXT7AKuy",
        "outputId": "fabbbe28-3c65-4d51-cb8e-66fecff4ceca"
      },
      "execution_count": 1,
      "outputs": [
        {
          "output_type": "stream",
          "name": "stdout",
          "text": [
            "1. Luas Lingkaran\n",
            "2. Luas Persegi\n",
            "3. Luas Segitiga\n",
            "4. Keluar\n",
            "Masukkan pilihan (1,2,3,4): 1\n",
            "Masukkan jari-jari: 9\n",
            "Luas Lingkaran adalah: 254.34\n",
            "\n",
            "1. Luas Lingkaran\n",
            "2. Luas Persegi\n",
            "3. Luas Segitiga\n",
            "4. Keluar\n",
            "Masukkan pilihan (1,2,3,4): 2\n",
            "Masukkan sisi: 4\n",
            "Luas Persegi adalah: 16.0\n",
            "\n",
            "1. Luas Lingkaran\n",
            "2. Luas Persegi\n",
            "3. Luas Segitiga\n",
            "4. Keluar\n",
            "Masukkan pilihan (1,2,3,4): 3\n",
            "Masukkan alas: 2\n",
            "Masukkan tinggi: 4\n",
            "Luas Segitiga adalah: 4.0\n",
            "\n",
            "1. Luas Lingkaran\n",
            "2. Luas Persegi\n",
            "3. Luas Segitiga\n",
            "4. Keluar\n",
            "Masukkan pilihan (1,2,3,4): 4\n",
            "Terima kasih!\n"
          ]
        }
      ]
    },
    {
      "cell_type": "code",
      "source": [
        "\n"
      ],
      "metadata": {
        "id": "nflkeR1ECYuZ"
      },
      "execution_count": null,
      "outputs": []
    }
  ]
}