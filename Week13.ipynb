{
  "nbformat": 4,
  "nbformat_minor": 0,
  "metadata": {
    "colab": {
      "provenance": [],
      "authorship_tag": "ABX9TyOeZROh5atHEooINqVeRTEy",
      "include_colab_link": true
    },
    "kernelspec": {
      "name": "python3",
      "display_name": "Python 3"
    },
    "language_info": {
      "name": "python"
    }
  },
  "cells": [
    {
      "cell_type": "markdown",
      "metadata": {
        "id": "view-in-github",
        "colab_type": "text"
      },
      "source": [
        "<a href=\"https://colab.research.google.com/github/Davidnazal/Praktikum-Pemrograman-git/blob/main/Week13.ipynb\" target=\"_parent\"><img src=\"https://colab.research.google.com/assets/colab-badge.svg\" alt=\"Open In Colab\"/></a>"
      ]
    },
    {
      "cell_type": "code",
      "source": [
        "class TokoAlatTulis:\n",
        "    def __init__(self):\n",
        "        self.dagangan = {}\n",
        "\n",
        "    def setter(self, nama, stok, harga_satuan):\n",
        "        self.dagangan[nama] = {\n",
        "            \"nama\": nama,\n",
        "            \"stok\": stok,\n",
        "            \"harga_satuan\": harga_satuan,\n",
        "        }\n",
        "    def getter(self, nama,):\n",
        "        return self.dagangan[nama]\n",
        "\n",
        "    def setter_getter(self, nama, jumlah):\n",
        "        dagangan = self.dagangan[nama]\n",
        "        if dagangan[\"stok\"] >= 1 and jumlah <= dagangan[\"stok\"]:\n",
        "            self.dagangan[nama][\"stok\"] -= jumlah\n",
        "            print(\"Total Pembelian anda sebesar \", dagangan[\"harga_satuan\"] * jumlah)\n",
        "\n",
        "AlatTulis = TokoAlatTulis()\n",
        "AlatTulis.setter(\"Bolpoint\", 10, 2000)\n",
        "AlatTulis.setter(\"Pensil\", 10, 1000)\n",
        "AlatTulis.setter(\"Penghapus\", 10, 500)\n",
        "\n",
        "def pembelian (barang):\n",
        "    dagangan = [\"Bolpoint\", \"Pensil\", \"Penghapus\"]\n",
        "    Bolpoint = AlatTulis.getter(\"Bolpoint\")\n",
        "    Pensil = AlatTulis.getter(\"Pensil\")\n",
        "    Penghapus = AlatTulis.getter(\"Penghapus\")\n",
        "\n",
        "    print()\n",
        "    print(\"Daftar stok barang:\")\n",
        "    print(\"1. Bolpoint : \", Bolpoint['stok'])\n",
        "    print(\"2. Pensil   : \", Pensil['stok'])\n",
        "    print(\"3. Penghapus: \", Penghapus['stok'])\n",
        "\n",
        "    pilih = int(input(\"Pilihlah salah satu dari nomor berikut => \"))\n",
        "    jumlah = int(input(\"Berapa jumlah pembelian= \"))\n",
        "\n",
        "    AlatTulis.setter_getter(dagangan[pilih - 1], jumlah)\n",
        "\n",
        "    selesai = True if input(\"Apakah sudah? (y/b)= \") == \"y\" else False\n",
        "    if \"y\" == print(\"Terimakasih sudah berbelanja\"):\n",
        "      pembelian (selesai)\n",
        "\n",
        "\n",
        "\n",
        "pembelian (False)"
      ],
      "metadata": {
        "colab": {
          "base_uri": "https://localhost:8080/"
        },
        "id": "cXLk9r9Ykjj2",
        "outputId": "61c6b273-104e-4293-a4a8-53c32fd096fc"
      },
      "execution_count": 36,
      "outputs": [
        {
          "output_type": "stream",
          "name": "stdout",
          "text": [
            "\n",
            "Daftar stok barang:\n",
            "1. Bolpoint :  10\n",
            "2. Pensil   :  10\n",
            "3. Penghapus:  10\n",
            "Pilihlah salah satu dari nomor berikut => 1\n",
            "Berapa jumlah pembelian= 5\n",
            "Total Pembelian anda sebesar  10000\n",
            "Apakah sudah? (y/b)= y\n",
            "Terimakasih sudah berbelanja\n"
          ]
        }
      ]
    },
    {
      "cell_type": "code",
      "source": [
        "\n"
      ],
      "metadata": {
        "id": "fVT1CwVnmnQT"
      },
      "execution_count": null,
      "outputs": []
    }
  ]
}
